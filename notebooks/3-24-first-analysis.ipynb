{
 "cells": [
  {
   "cell_type": "markdown",
   "metadata": {
    "collapsed": true,
    "pycharm": {
     "name": "#%% md\n"
    }
   },
   "source": [
    "# First Experiment Analysis - March 24\n",
    "\n",
    "## Limitations of current experiment state\n",
    "\n",
    "- Cursor experiment GUI is only set to have targets at the top of the screen\n",
    "- Green feedback when target reached, but doesn't stop that trial\n",
    "- Cursor can \"fall off\" the edges of the GUI\n",
    "- Pre-experiment average can vary significantly and affect results\n",
    "- No \"score keeping\" output\n",
    "- No annotations/events in file to aid in epoching\n",
    "- No rejection parameters for PSD result"
   ]
  }
 ],
 "metadata": {
  "kernelspec": {
   "display_name": "Python 3",
   "language": "python",
   "name": "python3"
  },
  "language_info": {
   "codemirror_mode": {
    "name": "ipython",
    "version": 2
   },
   "file_extension": ".py",
   "mimetype": "text/x-python",
   "name": "python",
   "nbconvert_exporter": "python",
   "pygments_lexer": "ipython2",
   "version": "2.7.6"
  }
 },
 "nbformat": 4,
 "nbformat_minor": 0
}